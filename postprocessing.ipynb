{
 "cells": [
  {
   "cell_type": "code",
   "execution_count": 1,
   "metadata": {},
   "outputs": [],
   "source": [
    "import matplotlib as mplot\n",
    "import numpy as np\n",
    "import pandas as pd\n",
    "import matplotlib.pyplot as plt\n",
    "import seaborn as sns"
   ]
  },
  {
   "cell_type": "code",
   "execution_count": null,
   "metadata": {},
   "outputs": [],
   "source": [
    "def compute_distances_single_row(row, number):\n",
    "    row_values = row.astype(int)                # Convert the row values to integers\n",
    "    indices = np.where(row_values == number)[0] # Find the indices where the number occurs in the row\n",
    "    distances = np.diff(indices)                # Compute the distances between consecutive occurrences\n",
    "    return distances.tolist()\n",
    "\n",
    "\n",
    "def compute_all_distances(log_dict):                    # compute distances for all runs\n",
    "    \n",
    "    gap_dict={}\n",
    "    dev_dict={}\n",
    "    thread_configs=list(log_dict)\n",
    "\n",
    "    for config in thread_configs:\n",
    "        gaps = []\n",
    "        data_df = log_dict[config]\n",
    "        meta_data = [int(s) for s in config.split() if s.isdigit()]\n",
    "        n_threads = meta_data[0]\n",
    "        outer_iter = meta_data[1]\n",
    "        inner_iter = meta_data[2]\n",
    "\n",
    "        fair_case = inner_iter / n_threads          # fairest scenario: (#inner_iterations / #threads) lock acquisitions per thread\n",
    "        deviations = []                             # deviation from fairest scenario per outer iteration\n",
    "        \n",
    "        for run in range(outer_iter):\n",
    "            # print(\"run:\", run)\n",
    "            for thread_id in range(n_threads):\n",
    "                print(\"tid:\", thread_id, compute_distances_single_row(data_df.iloc[run], thread_id))\n",
    "                distances = compute_distances_single_row(data_df.iloc[run], thread_id)\n",
    "                gaps = gaps + distances\n",
    "                deviations.append(abs(fair_case - len(distances)))\n",
    "        \n",
    "        dev_dict[config]=deviations\n",
    "        gap_dict[config]=gaps\n",
    "    return dev_dict, gap_dict\n",
    "            \n",
    "\n",
    "def compute_max_min_distances(df, n_threads):   # do we need this?\n",
    "    min_distances = []\n",
    "    max_distances = []\n",
    "\n",
    "    for index, row in df.iterrows(): #loop through all outer loops\n",
    "        row_values = row.astype(int)\n",
    "        \n",
    "        min_dist = np.nan                               # Initialize min/max dist\n",
    "        max_dist = np.nan                               # Initialize min/max dist\n",
    "        \n",
    "        for num in range(n_threads):                    # iterate thorufh all threads\n",
    "            indices = np.where(row_values == num)[0]    # Find the indices where the number occurs in the row\n",
    "            if len(indices) >= 2:                       # Compute the distances between consecutive occurrences and update min/max dist\n",
    "                distances = np.diff(indices)    \n",
    "                min_dist = np.nanmin(distances) if np.isnan(min_dist) else min(min_dist, np.nanmin(distances))\n",
    "                max_dist = np.nanmax(distances) if np.isnan(max_dist) else max(max_dist, np.nanmax(distances))\n",
    "        \n",
    "        min_distances.append(min_dist)                  # Append min/max dist to the respective lists\n",
    "        max_distances.append(max_dist)\n",
    "\n",
    "    df['min_gap'] = min_distances                       # Add min/max dist as new columns in the DataFrame\n",
    "    df['max_gap'] = max_distances\n",
    "    return df\n"
   ]
  },
  {
   "cell_type": "code",
   "execution_count": 2,
   "metadata": {},
   "outputs": [
    {
     "ename": "SyntaxError",
     "evalue": "EOL while scanning string literal (1623120811.py, line 3)",
     "output_type": "error",
     "traceback": [
      "\u001b[0;36m  Cell \u001b[0;32mIn [2], line 3\u001b[0;36m\u001b[0m\n\u001b[0;31m    '\u001b[0m\n\u001b[0m     ^\u001b[0m\n\u001b[0;31mSyntaxError\u001b[0m\u001b[0;31m:\u001b[0m EOL while scanning string literal\n"
     ]
    }
   ],
   "source": [
    "# LOAD FAIRNESS DATA FROM DIFFERENT LOCKS\n",
    "\n",
    "'''\n",
    "fairness_flock_N_oiter_iter.txt            lock-filter with N threads, oiter outer iterations, iiter inner iterations\n",
    "fairness_bwoo_N....txt                     block-woo\n",
    "fairness_binary_N....txt                   torunament-tree\n",
    "fairness_alag_N....txt                     alagarsamy\n",
    "'''\n",
    "\n",
    "# data_src= ['fairness_flock_X.txt', 'fairness_bwoo_X.txt','fairness_binary_X.txt','fairness_alag_X.txt']\n",
    "data_src= ['fairness_test.txt']\n",
    "fairness_dict= {}\n",
    "\n",
    "for src in data_src:\n",
    "    lock_dict={}\n",
    "    data=[]\n",
    "    with open(src, 'r') as file:\n",
    "        lines = file.readlines()[2:]\n",
    "\n",
    "        for line in lines:\n",
    "            values = line.split()\n",
    "            data.append(values)\n",
    "        \n",
    "        data = pd.DataFrame(data)\n",
    "        fairness_dict[src.removesuffix('.txt') ]=lock_dict"
   ]
  },
  {
   "cell_type": "code",
   "execution_count": null,
   "metadata": {},
   "outputs": [
    {
     "name": "stdout",
     "output_type": "stream",
     "text": [
      "Distances for number 3 in row 0:\n",
      "[6, 6, 7, 6, 6, 7, 7, 7, 7, 7, 7, 7, 7]\n"
     ]
    }
   ],
   "source": [
    "# EXAMPLE COMPUTE_DISTANCES\n",
    "test_df= fairness_dict[\"fairness_test\"]\n",
    "\n",
    "iter_id = 0                                    # Specify the row index you want to compute distances for\n",
    "th_id = 3                                      # Specify the number ID you want to compute distances for\n",
    "\n",
    "row = test_df.iloc[iter_id]                    # Get the row based on the index\n",
    "distances = compute_distances_single_row(row, th_id)      # Compute the distances for the given number in the row\n",
    "\n",
    "print(f\"Distances for number {th_id} in row {iter_id}:\")\n",
    "print(distances)"
   ]
  },
  {
   "cell_type": "code",
   "execution_count": null,
   "metadata": {},
   "outputs": [
    {
     "name": "stdout",
     "output_type": "stream",
     "text": [
      "run: 0\n",
      "tid: 0 [1]\n",
      "tid: 1 [6, 7, 19, 7, 7, 7, 7, 7, 7, 7, 7, 3]\n",
      "tid: 2 [6, 6, 7, 7, 6, 6, 7, 7, 7, 7, 7, 7, 7, 7]\n",
      "tid: 3 [6, 6, 7, 6, 6, 7, 7, 7, 7, 7, 7, 7, 7]\n",
      "tid: 4 [6, 6, 7, 7, 6, 6, 7, 7, 7, 7, 7, 7, 7, 7]\n",
      "tid: 5 [15, 7, 6, 6, 7, 7, 7, 7, 7, 7, 7, 7]\n",
      "tid: 6 [6, 6, 7, 7, 6, 6, 7, 7, 7, 7, 7, 7, 7, 7]\n",
      "tid: 7 [6, 6, 7, 6, 6, 7, 7, 7, 7, 7, 7, 7, 7]\n",
      "run: 1\n",
      "tid: 0 [8, 8, 8, 8, 8, 8, 8, 8, 8, 8, 8, 8, 2]\n",
      "tid: 1 [8, 8, 8, 8, 8, 8, 8, 8, 8, 8, 8]\n",
      "tid: 2 [8, 8, 8, 8, 8, 8, 8, 8, 8, 8, 8, 8]\n",
      "tid: 3 [8, 8, 8, 8, 8, 8, 8, 8, 8, 8, 8]\n",
      "tid: 4 [8, 8, 8, 8, 8, 8, 8, 8, 8, 8, 8]\n",
      "tid: 5 [8, 8, 8, 8, 8, 8, 8, 8, 8, 8, 8]\n",
      "tid: 6 [8, 8, 8, 8, 8, 8, 8, 8, 8, 8, 8, 8]\n",
      "tid: 7 [8, 8, 8, 8, 8, 8, 8, 8, 8, 8, 8, 8]\n",
      "run: 2\n",
      "tid: 0 [8, 8, 8, 8, 8, 8, 8, 8, 7, 7, 7, 8, 2]\n",
      "tid: 1 [8, 8, 8, 8, 8, 8, 8, 8, 8, 7, 7, 8]\n",
      "tid: 2 [8, 8, 8, 8, 8, 8, 8, 8, 7, 7, 7, 8, 2]\n",
      "tid: 3 [8, 8, 8, 8, 8, 8, 8, 8, 7, 7, 7]\n",
      "tid: 4 [8, 8, 8, 8, 8, 8, 8, 8, 28]\n",
      "tid: 5 [8, 8, 8, 8, 8, 8, 8, 8, 7, 7, 7]\n",
      "tid: 6 [8, 8, 8, 8, 8, 8, 8, 8, 7, 7, 7, 8]\n",
      "tid: 7 [8, 8, 8, 8, 8, 8, 8, 8, 7, 7, 7, 8]\n",
      "run: 3\n",
      "tid: 0 [8, 8, 8, 8, 8, 8, 8, 8, 8, 8, 8, 8]\n",
      "tid: 1 [8, 8, 8, 8, 8, 8, 8, 8, 8, 8, 8]\n",
      "tid: 2 [8, 8, 8, 8, 8, 8, 8, 8, 8, 8, 8]\n",
      "tid: 3 [8, 8, 8, 8, 8, 8, 8, 8, 8, 8, 8, 8]\n",
      "tid: 4 [8, 8, 8, 8, 8, 8, 8, 8, 8, 8, 8]\n",
      "tid: 5 [8, 8, 8, 8, 8, 8, 8, 8, 8, 8, 8, 8]\n",
      "tid: 6 [8, 8, 8, 8, 8, 8, 8, 8, 8, 8, 8, 8]\n",
      "tid: 7 [8, 8, 8, 8, 8, 8, 8, 8, 8, 8, 8]\n",
      "run: 4\n",
      "tid: 0 [8, 8, 8, 8, 8, 8, 8, 8, 8, 8, 8, 8, 2]\n",
      "tid: 1 [8, 8, 8, 8, 8, 8, 8, 8, 8, 8, 8, 8]\n",
      "tid: 2 [8, 8, 8, 8, 8, 8, 8, 8, 8, 8, 8, 8, 2]\n",
      "tid: 3 [8, 8, 8, 8, 8, 8, 8, 8, 8, 8, 8]\n",
      "tid: 4 [8, 8, 8, 8, 8, 8, 8, 9, 8, 8, 8]\n",
      "tid: 5 [8, 8, 8, 8, 8, 8, 8, 8, 8, 8, 8]\n",
      "tid: 6 [8, 8, 8, 8, 8, 8, 8, 8, 8, 8, 8]\n",
      "tid: 7 [8, 8, 8, 8, 8, 8, 8, 7, 8, 8, 8]\n",
      "run: 5\n",
      "tid: 0 [8, 8, 8, 8, 8, 8, 8, 8, 8, 8, 8, 8, 3]\n",
      "tid: 1 [8, 8, 8, 8, 8, 8, 8, 8, 8, 8, 8]\n",
      "tid: 2 [8, 8, 8, 8, 8, 8, 8, 8, 8, 8, 8]\n",
      "tid: 3 [8, 8, 8, 8, 8, 8, 8, 8, 8, 8, 8, 8, 2]\n",
      "tid: 4 [8, 8, 8, 8, 8, 8, 8, 8, 8, 8, 8]\n",
      "tid: 5 [8, 8, 8, 8, 8, 8, 8, 8, 8, 8, 8, 8]\n",
      "tid: 6 [8, 8, 8, 8, 8, 8, 8, 8, 8, 8, 8]\n",
      "tid: 7 [8, 8, 8, 8, 8, 8, 8, 8, 8, 8, 8]\n",
      "run: 6\n",
      "tid: 0 [8, 7, 17, 6, 5, 6, 5, 6, 6, 6, 6, 6, 6, 8]\n",
      "tid: 1 [8, 7, 6, 5, 5, 6, 5, 6, 46]\n",
      "tid: 2 [8, 6, 5, 5, 6, 5, 5, 6, 5, 6, 6, 6, 6, 6, 6]\n",
      "tid: 3 [8, 6, 78]\n",
      "tid: 4 [8, 6, 5, 5, 6, 5, 5, 6, 5, 6, 6, 6, 6, 6, 6]\n",
      "tid: 5 [8, 7, 6, 5, 6, 13, 6, 5, 6, 6, 6, 6, 6, 7, 5]\n",
      "tid: 6 [8, 11, 5, 5, 6, 5, 6, 5, 5, 6, 6, 6, 6, 6, 8]\n",
      "tid: 7 [53, 6, 6, 6, 6, 6, 8]\n",
      "run: 7\n",
      "tid: 0 [8, 8, 8, 8, 8, 8, 8, 8, 7, 7, 7, 7, 6]\n",
      "tid: 1 [8, 8, 8, 8, 8, 8, 8, 36]\n",
      "tid: 2 [8, 8, 8, 8, 8, 8, 8, 7, 7, 7, 7]\n",
      "tid: 3 [8, 8, 8, 8, 8, 8, 8, 8, 7, 7, 7, 7]\n",
      "tid: 4 [8, 8, 8, 8, 8, 8, 8, 7, 7, 7, 7, 8]\n",
      "tid: 5 [8, 8, 8, 8, 8, 8, 8, 8, 7, 7, 7, 7]\n",
      "tid: 6 [8, 8, 8, 8, 8, 8, 8, 8, 7, 7, 7, 7, 8]\n",
      "tid: 7 [8, 8, 8, 8, 8, 8, 8, 7, 7, 7, 7, 8]\n",
      "run: 8\n",
      "tid: 0 [8, 8, 8, 8, 8, 8, 8, 8, 8, 8, 8, 8, 3]\n",
      "tid: 1 [8, 8, 8, 8, 8, 8, 8, 8, 8, 8, 8]\n",
      "tid: 2 [8, 8, 8, 8, 8, 8, 8, 8, 8, 8, 8]\n",
      "tid: 3 [8, 8, 8, 8, 8, 8, 8, 8, 8, 8, 8, 9]\n",
      "tid: 4 [8, 8, 8, 8, 8, 8, 8, 8, 8, 8, 8]\n",
      "tid: 5 [8, 8, 8, 8, 8, 8, 8, 8, 8, 8, 8, 8]\n",
      "tid: 6 [8, 8, 8, 8, 8, 8, 8, 8, 8, 8, 8, 8]\n",
      "tid: 7 [8, 8, 8, 8, 8, 8, 8, 8, 8, 8, 8]\n",
      "run: 9\n",
      "tid: 0 [8, 7, 8, 8, 8, 8, 8, 8, 8, 8, 8, 8, 4]\n",
      "tid: 1 [8, 8, 8, 8, 8, 8, 8, 8, 8, 8, 8]\n",
      "tid: 2 [12, 8, 8, 8, 8, 8, 8, 8, 8, 8]\n",
      "tid: 3 [8, 8, 8, 8, 8, 8, 8, 8, 8, 8, 8]\n",
      "tid: 4 [8, 7, 8, 8, 8, 8, 8, 8, 8, 8, 8, 8, 3]\n",
      "tid: 5 [8, 7, 8, 8, 8, 8, 8, 8, 8, 8, 8, 8]\n",
      "tid: 6 [8, 7, 8, 8, 8, 8, 8, 8, 8, 8, 8, 8]\n",
      "tid: 7 [8, 8, 8, 8, 8, 8, 8, 8, 8, 8, 8]\n"
     ]
    }
   ],
   "source": [
    "# EXAMPLE COMPUTE_DISTANCES FOR ALL DATA\n",
    "dev_dict, gap_dict = compute_all_distances(fairness_dict)\n",
    "dev_keys=list(dev_dict)\n",
    "gap_keys=list(gap_dict)\n",
    "\n",
    "for key in dev_keys:\n",
    "    devs= dev_dict[key]\n",
    "    plt.boxplot(devs)"
   ]
  },
  {
   "cell_type": "code",
   "execution_count": null,
   "metadata": {},
   "outputs": [
    {
     "data": {
      "text/plain": [
       "(array([  1.,   6.,   4.,   1.,  23.,  74., 123., 684.,   2.,   0.,   1.,\n",
       "          1.,   1.,   0.,   1.,   0.,   1.,   0.,   1.,   0.,   0.,   0.,\n",
       "          0.,   0.,   0.,   0.,   0.,   1.,   0.,   0.,   0.,   0.,   0.,\n",
       "          0.,   0.,   1.,   0.,   0.,   0.,   0.,   0.,   0.,   0.,   0.,\n",
       "          0.,   1.,   0.,   0.,   0.,   0.,   0.,   0.,   1.,   0.,   0.,\n",
       "          0.,   0.,   0.,   0.,   0.,   0.,   0.,   0.,   0.,   0.,   0.,\n",
       "          0.,   0.,   0.,   0.,   0.,   0.,   0.,   0.,   0.,   0.,   0.,\n",
       "          1.]),\n",
       " array([ 1.,  2.,  3.,  4.,  5.,  6.,  7.,  8.,  9., 10., 11., 12., 13.,\n",
       "        14., 15., 16., 17., 18., 19., 20., 21., 22., 23., 24., 25., 26.,\n",
       "        27., 28., 29., 30., 31., 32., 33., 34., 35., 36., 37., 38., 39.,\n",
       "        40., 41., 42., 43., 44., 45., 46., 47., 48., 49., 50., 51., 52.,\n",
       "        53., 54., 55., 56., 57., 58., 59., 60., 61., 62., 63., 64., 65.,\n",
       "        66., 67., 68., 69., 70., 71., 72., 73., 74., 75., 76., 77., 78.,\n",
       "        79.]),\n",
       " <BarContainer object of 78 artists>)"
      ]
     },
     "execution_count": 124,
     "metadata": {},
     "output_type": "execute_result"
    },
    {
     "data": {
      "image/png": "[encoded data removed]",
      "text/plain": [
       "<Figure size 640x480 with 1 Axes>"
      ]
     },
     "metadata": {},
     "output_type": "display_data"
    }
   ],
   "source": [
    "for key in gap_keys:\n",
    "    gaps= dev_dict[key]\n",
    "    plt.hist(gaps, bins=range(min(gaps), max(gaps)+2))"
   ]
  }
 ],
 "metadata": {
  "kernelspec": {
   "display_name": "Python 3 (ipykernel)",
   "language": "python",
   "name": "python3"
  },
  "language_info": {
   "codemirror_mode": {
    "name": "ipython",
    "version": 3
   },
   "file_extension": ".py",
   "mimetype": "text/x-python",
   "name": "python",
   "nbconvert_exporter": "python",
   "pygments_lexer": "ipython3",
   "version": "3.8.10"
  },
  "vscode": {
   "interpreter": {
    "hash": "ffceec8d0d82b2530dd5e99c3e9a753b5d213e57b47e6b793e6bb963feaa24f3"
   }
  }
 },
 "nbformat": 4,
 "nbformat_minor": 2
}
