{
 "cells": [
  {
   "cell_type": "code",
   "execution_count": 226,
   "metadata": {},
   "outputs": [],
   "source": [
    "import matplotlib as mplot\n",
    "import numpy as np\n",
    "import pandas as pd\n",
    "import matplotlib.pyplot as plt\n",
    "import seaborn as sns\n",
    "import re\n",
    "import glob\n",
    "import os"
   ]
  },
  {
   "cell_type": "code",
   "execution_count": 227,
   "metadata": {},
   "outputs": [],
   "source": [
    "def compute_distances_single_row(row, th_id,n_threads):\n",
    "    row_values = row.astype(int)                # Convert the row values to integers\n",
    "    indices = np.where(row_values == th_id)[0] # Find the indices where the number occurs in the row\n",
    "    if len(indices)>0 and indices[0]>n_threads: np.insert(indices,0,th_id)\n",
    "    distances = np.diff(indices)                # Compute the distances between consecutive occurrences\n",
    "    return distances.tolist()\n",
    "\n",
    "\n",
    "def compute_all_distances(log_dict):                # compute distances for all runs\n",
    "    gap_dict={}                                     # stores all gaps\n",
    "    dev_dict={}                                     # stores deviations from 'fair gap'\n",
    "    thread_configs=list(log_dict)                   # list of N_iouter_iiter configurations\n",
    "    n_threads_max=0\n",
    "\n",
    "    for config in thread_configs:\n",
    "        gaps = []\n",
    "        deviations = []                             # deviation from fairest scenario per outer iteration\n",
    "\n",
    "        data_df = log_dict[config]\n",
    "        meta_data = re.findall(r'\\d+', config)\n",
    "        meta_data= list(map(int, meta_data))\n",
    "        n_threads = meta_data[0]\n",
    "        outer_iter = meta_data[1]\n",
    "        inner_iter = meta_data[2]\n",
    "\n",
    "        fair_case = inner_iter / n_threads          # fairest scenario: (#inner_iterations / #threads) lock acquisitions per thread     \n",
    "        \n",
    "        for run in range(0,outer_iter):\n",
    "            # print(\"run:\", run)\n",
    "            for thread_id in range(n_threads):\n",
    "                #print(\"tid:\", thread_id, compute_distances_single_row(data_df.iloc[run], thread_id))\n",
    "                print(data_df.shape)\n",
    "                temp = data_df.iloc[run]\n",
    "                distances = compute_distances_single_row(temp, thread_id, n_threads)\n",
    "                gaps = gaps + distances\n",
    "                deviations.append(abs(fair_case - (len(distances)+1)))\n",
    "        \n",
    "        dev_dict[config]=deviations\n",
    "        gap_dict[config]=list((np.array(gaps) /n_threads))\n",
    "\n",
    "        if (n_threads>n_threads_max):\n",
    "            n_threads_max=n_threads\n",
    "            regard=len(gaps)\n",
    "    \n",
    "    for i in list(gap_dict): \n",
    "        gap_dict[i]=gap_dict[i][0:regard]\n",
    "\n",
    "    return dev_dict, gap_dict"
   ]
  },
  {
   "cell_type": "code",
   "execution_count": 228,
   "metadata": {},
   "outputs": [],
   "source": [
    "# LOAD FAIRNESS DATA FROM DIFFERENT LOCKS\n",
    "\n",
    "'''\n",
    "fairness_flock_N_oiter_iter.txt            lock-filter with N threads, oiter outer iterations, iiter inner iterations\n",
    "fairness_bwoo_N....txt                     block-woo\n",
    "fairness_binary_N....txt                   torunament-tree\n",
    "fairness_alag_N....txt                     alagarsamy\n",
    "'''\n",
    "# find .txt files in sub dirs\n",
    "data_src=glob.glob(os.getcwd()+\"/output_nebula/output/*\")\n",
    "data_src=glob.glob(os.getcwd()+\"/output/*\")\n",
    "\n",
    "fairness_dict= {}\n",
    "\n",
    "for src in data_src:\n",
    "    lock_dict={}\n",
    "    data=[]\n",
    "    with open(src, 'r') as file:\n",
    "        meta = file.readlines()[0]\n",
    "        meta = re.findall(r'\\d+', meta)\n",
    "        n_threads=meta[0]\n",
    "        outer_it=meta[1]\n",
    "        inner_it=meta[2]\n",
    "        lines = file.readlines()[1:]\n",
    "\n",
    "        for line in lines:\n",
    "            values = line.split()\n",
    "            data.append(values)\n",
    "        \n",
    "        data = pd.DataFrame(data)\n",
    "        lock_dict = data\n",
    "        \n",
    "        new_key= str(n_threads)+\"_\"+str(outer_it)+\"_\"+str(inner_it)\n",
    "        fairness_dict[new_key]=lock_dict"
   ]
  },
  {
   "cell_type": "code",
   "execution_count": 229,
   "metadata": {},
   "outputs": [
    {
     "data": {
      "text/plain": [
       "['4_480_4096']"
      ]
     },
     "execution_count": 229,
     "metadata": {},
     "output_type": "execute_result"
    }
   ],
   "source": [
    "list(fairness_dict)\n",
    "list(fairness_dict)"
   ]
  },
  {
   "cell_type": "code",
   "execution_count": 231,
   "metadata": {},
   "outputs": [
    {
     "ename": "TypeError",
     "evalue": "'dict' object is not callable",
     "output_type": "error",
     "traceback": [
      "\u001b[0;31m---------------------------------------------------------------------------\u001b[0m",
      "\u001b[0;31mTypeError\u001b[0m                                 Traceback (most recent call last)",
      "\u001b[1;32m/home/grube/CSE/amp/postprocessing.ipynb Cell 5\u001b[0m in \u001b[0;36m1\n\u001b[0;32m----> <a href='vscode-notebook-cell://wsl%2Bubuntu/home/grube/CSE/amp/postprocessing.ipynb#X13sdnNjb2RlLXJlbW90ZQ%3D%3D?line=0'>1</a>\u001b[0m fairness_dict(\u001b[39mlist\u001b[39;49m(fairness_dict)[\u001b[39m0\u001b[39;49m])\n",
      "\u001b[0;31mTypeError\u001b[0m: 'dict' object is not callable"
     ]
    }
   ],
   "source": [
    "fairness_dict(li"
   ]
  },
  {
   "cell_type": "code",
   "execution_count": 230,
   "metadata": {},
   "outputs": [
    {
     "name": "stdout",
     "output_type": "stream",
     "text": [
      "(0, 0)\n"
     ]
    },
    {
     "ename": "IndexError",
     "evalue": "single positional indexer is out-of-bounds",
     "output_type": "error",
     "traceback": [
      "\u001b[0;31m---------------------------------------------------------------------------\u001b[0m",
      "\u001b[0;31mIndexError\u001b[0m                                Traceback (most recent call last)",
      "\u001b[1;32m/home/grube/CSE/amp/postprocessing.ipynb Cell 5\u001b[0m in \u001b[0;36m2\n\u001b[1;32m      <a href='vscode-notebook-cell://wsl%2Bubuntu/home/grube/CSE/amp/postprocessing.ipynb#W5sdnNjb2RlLXJlbW90ZQ%3D%3D?line=0'>1</a>\u001b[0m \u001b[39m# EXAMPLE COMPUTE_DISTANCES FOR ALL DATA\u001b[39;00m\n\u001b[0;32m----> <a href='vscode-notebook-cell://wsl%2Bubuntu/home/grube/CSE/amp/postprocessing.ipynb#W5sdnNjb2RlLXJlbW90ZQ%3D%3D?line=1'>2</a>\u001b[0m dev_dict, gap_dict \u001b[39m=\u001b[39m compute_all_distances(fairness_dict)\n\u001b[1;32m      <a href='vscode-notebook-cell://wsl%2Bubuntu/home/grube/CSE/amp/postprocessing.ipynb#W5sdnNjb2RlLXJlbW90ZQ%3D%3D?line=3'>4</a>\u001b[0m gap_keys\u001b[39m=\u001b[39m\u001b[39mlist\u001b[39m(gap_dict)\n\u001b[1;32m      <a href='vscode-notebook-cell://wsl%2Bubuntu/home/grube/CSE/amp/postprocessing.ipynb#W5sdnNjb2RlLXJlbW90ZQ%3D%3D?line=4'>5</a>\u001b[0m dev_keys\u001b[39m=\u001b[39m\u001b[39mlist\u001b[39m(dev_dict)\n",
      "\u001b[1;32m/home/grube/CSE/amp/postprocessing.ipynb Cell 5\u001b[0m in \u001b[0;36m3\n\u001b[1;32m     <a href='vscode-notebook-cell://wsl%2Bubuntu/home/grube/CSE/amp/postprocessing.ipynb#W5sdnNjb2RlLXJlbW90ZQ%3D%3D?line=29'>30</a>\u001b[0m \u001b[39mfor\u001b[39;00m thread_id \u001b[39min\u001b[39;00m \u001b[39mrange\u001b[39m(n_threads):\n\u001b[1;32m     <a href='vscode-notebook-cell://wsl%2Bubuntu/home/grube/CSE/amp/postprocessing.ipynb#W5sdnNjb2RlLXJlbW90ZQ%3D%3D?line=30'>31</a>\u001b[0m     \u001b[39m#print(\"tid:\", thread_id, compute_distances_single_row(data_df.iloc[run], thread_id))\u001b[39;00m\n\u001b[1;32m     <a href='vscode-notebook-cell://wsl%2Bubuntu/home/grube/CSE/amp/postprocessing.ipynb#W5sdnNjb2RlLXJlbW90ZQ%3D%3D?line=31'>32</a>\u001b[0m     \u001b[39mprint\u001b[39m(data_df\u001b[39m.\u001b[39mshape)\n\u001b[0;32m---> <a href='vscode-notebook-cell://wsl%2Bubuntu/home/grube/CSE/amp/postprocessing.ipynb#W5sdnNjb2RlLXJlbW90ZQ%3D%3D?line=32'>33</a>\u001b[0m     temp \u001b[39m=\u001b[39m data_df\u001b[39m.\u001b[39;49miloc[run]\n\u001b[1;32m     <a href='vscode-notebook-cell://wsl%2Bubuntu/home/grube/CSE/amp/postprocessing.ipynb#W5sdnNjb2RlLXJlbW90ZQ%3D%3D?line=33'>34</a>\u001b[0m     distances \u001b[39m=\u001b[39m compute_distances_single_row(temp, thread_id, n_threads)\n\u001b[1;32m     <a href='vscode-notebook-cell://wsl%2Bubuntu/home/grube/CSE/amp/postprocessing.ipynb#W5sdnNjb2RlLXJlbW90ZQ%3D%3D?line=34'>35</a>\u001b[0m     gaps \u001b[39m=\u001b[39m gaps \u001b[39m+\u001b[39m distances\n",
      "File \u001b[0;32m~/.local/lib/python3.8/site-packages/pandas/core/indexing.py:1074\u001b[0m, in \u001b[0;36m_LocationIndexer.__getitem__\u001b[0;34m(self, key)\u001b[0m\n\u001b[1;32m   1071\u001b[0m axis \u001b[39m=\u001b[39m \u001b[39mself\u001b[39m\u001b[39m.\u001b[39maxis \u001b[39mor\u001b[39;00m \u001b[39m0\u001b[39m\n\u001b[1;32m   1073\u001b[0m maybe_callable \u001b[39m=\u001b[39m com\u001b[39m.\u001b[39mapply_if_callable(key, \u001b[39mself\u001b[39m\u001b[39m.\u001b[39mobj)\n\u001b[0;32m-> 1074\u001b[0m \u001b[39mreturn\u001b[39;00m \u001b[39mself\u001b[39;49m\u001b[39m.\u001b[39;49m_getitem_axis(maybe_callable, axis\u001b[39m=\u001b[39;49maxis)\n",
      "File \u001b[0;32m~/.local/lib/python3.8/site-packages/pandas/core/indexing.py:1626\u001b[0m, in \u001b[0;36m_iLocIndexer._getitem_axis\u001b[0;34m(self, key, axis)\u001b[0m\n\u001b[1;32m   1623\u001b[0m     \u001b[39mraise\u001b[39;00m \u001b[39mTypeError\u001b[39;00m(\u001b[39m\"\u001b[39m\u001b[39mCannot index by location index with a non-integer key\u001b[39m\u001b[39m\"\u001b[39m)\n\u001b[1;32m   1625\u001b[0m \u001b[39m# validate the location\u001b[39;00m\n\u001b[0;32m-> 1626\u001b[0m \u001b[39mself\u001b[39;49m\u001b[39m.\u001b[39;49m_validate_integer(key, axis)\n\u001b[1;32m   1628\u001b[0m \u001b[39mreturn\u001b[39;00m \u001b[39mself\u001b[39m\u001b[39m.\u001b[39mobj\u001b[39m.\u001b[39m_ixs(key, axis\u001b[39m=\u001b[39maxis)\n",
      "File \u001b[0;32m~/.local/lib/python3.8/site-packages/pandas/core/indexing.py:1558\u001b[0m, in \u001b[0;36m_iLocIndexer._validate_integer\u001b[0;34m(self, key, axis)\u001b[0m\n\u001b[1;32m   1556\u001b[0m len_axis \u001b[39m=\u001b[39m \u001b[39mlen\u001b[39m(\u001b[39mself\u001b[39m\u001b[39m.\u001b[39mobj\u001b[39m.\u001b[39m_get_axis(axis))\n\u001b[1;32m   1557\u001b[0m \u001b[39mif\u001b[39;00m key \u001b[39m>\u001b[39m\u001b[39m=\u001b[39m len_axis \u001b[39mor\u001b[39;00m key \u001b[39m<\u001b[39m \u001b[39m-\u001b[39mlen_axis:\n\u001b[0;32m-> 1558\u001b[0m     \u001b[39mraise\u001b[39;00m \u001b[39mIndexError\u001b[39;00m(\u001b[39m\"\u001b[39m\u001b[39msingle positional indexer is out-of-bounds\u001b[39m\u001b[39m\"\u001b[39m)\n",
      "\u001b[0;31mIndexError\u001b[0m: single positional indexer is out-of-bounds"
     ]
    }
   ],
   "source": [
    "# EXAMPLE COMPUTE_DISTANCES FOR ALL DATA\n",
    "dev_dict, gap_dict = compute_all_distances(fairness_dict)\n",
    "\n",
    "gap_keys=list(gap_dict)\n",
    "dev_keys=list(dev_dict)\n",
    "\n",
    "for key in dev_keys: print(len(dev_dict[key]))\n",
    "print(\"\\n\")\n",
    "for key in gap_keys: print(len(gap_dict[key]))\n",
    "\n",
    "dev_df=pd.DataFrame(dev_dict)\n",
    "fig, ax1 = plt.subplots(figsize=(10,5))\n",
    "\n",
    "ax1 = dev_df.boxplot(figsize=(15,5), grid=True)\n",
    "ax1.set_ylabel(\"occurancy relative to fair value\")\n",
    "ax1.set_xlabel(\"lock implementation\")\n",
    "ax1.set_title(\"deviation from fair frequency for different thread counts\")"
   ]
  },
  {
   "cell_type": "code",
   "execution_count": null,
   "metadata": {},
   "outputs": [],
   "source": [
    "# gap_dict[\"filter_lock_63_30_64\"]"
   ]
  },
  {
   "cell_type": "code",
   "execution_count": null,
   "metadata": {},
   "outputs": [
    {
     "ename": "ValueError",
     "evalue": "All arrays must be of the same length",
     "output_type": "error",
     "traceback": [
      "\u001b[0;31m---------------------------------------------------------------------------\u001b[0m",
      "\u001b[0;31mValueError\u001b[0m                                Traceback (most recent call last)",
      "\u001b[1;32m/home/grube/CSE/amp/postprocessing.ipynb Cell 7\u001b[0m in \u001b[0;36m1\n\u001b[0;32m----> <a href='vscode-notebook-cell://wsl%2Bubuntu/home/grube/CSE/amp/postprocessing.ipynb#X10sdnNjb2RlLXJlbW90ZQ%3D%3D?line=0'>1</a>\u001b[0m dev_df\u001b[39m=\u001b[39mpd\u001b[39m.\u001b[39;49mDataFrame(gap_dict)\n\u001b[1;32m      <a href='vscode-notebook-cell://wsl%2Bubuntu/home/grube/CSE/amp/postprocessing.ipynb#X10sdnNjb2RlLXJlbW90ZQ%3D%3D?line=1'>2</a>\u001b[0m fig, ax1 \u001b[39m=\u001b[39m plt\u001b[39m.\u001b[39msubplots(figsize\u001b[39m=\u001b[39m(\u001b[39m10\u001b[39m,\u001b[39m5\u001b[39m))\n\u001b[1;32m      <a href='vscode-notebook-cell://wsl%2Bubuntu/home/grube/CSE/amp/postprocessing.ipynb#X10sdnNjb2RlLXJlbW90ZQ%3D%3D?line=2'>3</a>\u001b[0m ax1 \u001b[39m=\u001b[39m dev_df\u001b[39m.\u001b[39mboxplot(grid\u001b[39m=\u001b[39m\u001b[39mTrue\u001b[39;00m)\n",
      "File \u001b[0;32m~/.local/lib/python3.8/site-packages/pandas/core/frame.py:663\u001b[0m, in \u001b[0;36mDataFrame.__init__\u001b[0;34m(self, data, index, columns, dtype, copy)\u001b[0m\n\u001b[1;32m    657\u001b[0m     mgr \u001b[39m=\u001b[39m \u001b[39mself\u001b[39m\u001b[39m.\u001b[39m_init_mgr(\n\u001b[1;32m    658\u001b[0m         data, axes\u001b[39m=\u001b[39m{\u001b[39m\"\u001b[39m\u001b[39mindex\u001b[39m\u001b[39m\"\u001b[39m: index, \u001b[39m\"\u001b[39m\u001b[39mcolumns\u001b[39m\u001b[39m\"\u001b[39m: columns}, dtype\u001b[39m=\u001b[39mdtype, copy\u001b[39m=\u001b[39mcopy\n\u001b[1;32m    659\u001b[0m     )\n\u001b[1;32m    661\u001b[0m \u001b[39melif\u001b[39;00m \u001b[39misinstance\u001b[39m(data, \u001b[39mdict\u001b[39m):\n\u001b[1;32m    662\u001b[0m     \u001b[39m# GH#38939 de facto copy defaults to False only in non-dict cases\u001b[39;00m\n\u001b[0;32m--> 663\u001b[0m     mgr \u001b[39m=\u001b[39m dict_to_mgr(data, index, columns, dtype\u001b[39m=\u001b[39;49mdtype, copy\u001b[39m=\u001b[39;49mcopy, typ\u001b[39m=\u001b[39;49mmanager)\n\u001b[1;32m    664\u001b[0m \u001b[39melif\u001b[39;00m \u001b[39misinstance\u001b[39m(data, ma\u001b[39m.\u001b[39mMaskedArray):\n\u001b[1;32m    665\u001b[0m     \u001b[39mimport\u001b[39;00m \u001b[39mnumpy\u001b[39;00m\u001b[39m.\u001b[39;00m\u001b[39mma\u001b[39;00m\u001b[39m.\u001b[39;00m\u001b[39mmrecords\u001b[39;00m \u001b[39mas\u001b[39;00m \u001b[39mmrecords\u001b[39;00m\n",
      "File \u001b[0;32m~/.local/lib/python3.8/site-packages/pandas/core/internals/construction.py:494\u001b[0m, in \u001b[0;36mdict_to_mgr\u001b[0;34m(data, index, columns, dtype, typ, copy)\u001b[0m\n\u001b[1;32m    490\u001b[0m     \u001b[39melse\u001b[39;00m:\n\u001b[1;32m    491\u001b[0m         \u001b[39m# dtype check to exclude e.g. range objects, scalars\u001b[39;00m\n\u001b[1;32m    492\u001b[0m         arrays \u001b[39m=\u001b[39m [x\u001b[39m.\u001b[39mcopy() \u001b[39mif\u001b[39;00m \u001b[39mhasattr\u001b[39m(x, \u001b[39m\"\u001b[39m\u001b[39mdtype\u001b[39m\u001b[39m\"\u001b[39m) \u001b[39melse\u001b[39;00m x \u001b[39mfor\u001b[39;00m x \u001b[39min\u001b[39;00m arrays]\n\u001b[0;32m--> 494\u001b[0m \u001b[39mreturn\u001b[39;00m arrays_to_mgr(arrays, columns, index, dtype\u001b[39m=\u001b[39;49mdtype, typ\u001b[39m=\u001b[39;49mtyp, consolidate\u001b[39m=\u001b[39;49mcopy)\n",
      "File \u001b[0;32m~/.local/lib/python3.8/site-packages/pandas/core/internals/construction.py:119\u001b[0m, in \u001b[0;36marrays_to_mgr\u001b[0;34m(arrays, columns, index, dtype, verify_integrity, typ, consolidate)\u001b[0m\n\u001b[1;32m    116\u001b[0m \u001b[39mif\u001b[39;00m verify_integrity:\n\u001b[1;32m    117\u001b[0m     \u001b[39m# figure out the index, if necessary\u001b[39;00m\n\u001b[1;32m    118\u001b[0m     \u001b[39mif\u001b[39;00m index \u001b[39mis\u001b[39;00m \u001b[39mNone\u001b[39;00m:\n\u001b[0;32m--> 119\u001b[0m         index \u001b[39m=\u001b[39m _extract_index(arrays)\n\u001b[1;32m    120\u001b[0m     \u001b[39melse\u001b[39;00m:\n\u001b[1;32m    121\u001b[0m         index \u001b[39m=\u001b[39m ensure_index(index)\n",
      "File \u001b[0;32m~/.local/lib/python3.8/site-packages/pandas/core/internals/construction.py:667\u001b[0m, in \u001b[0;36m_extract_index\u001b[0;34m(data)\u001b[0m\n\u001b[1;32m    665\u001b[0m lengths \u001b[39m=\u001b[39m \u001b[39mlist\u001b[39m(\u001b[39mset\u001b[39m(raw_lengths))\n\u001b[1;32m    666\u001b[0m \u001b[39mif\u001b[39;00m \u001b[39mlen\u001b[39m(lengths) \u001b[39m>\u001b[39m \u001b[39m1\u001b[39m:\n\u001b[0;32m--> 667\u001b[0m     \u001b[39mraise\u001b[39;00m \u001b[39mValueError\u001b[39;00m(\u001b[39m\"\u001b[39m\u001b[39mAll arrays must be of the same length\u001b[39m\u001b[39m\"\u001b[39m)\n\u001b[1;32m    669\u001b[0m \u001b[39mif\u001b[39;00m have_dicts:\n\u001b[1;32m    670\u001b[0m     \u001b[39mraise\u001b[39;00m \u001b[39mValueError\u001b[39;00m(\n\u001b[1;32m    671\u001b[0m         \u001b[39m\"\u001b[39m\u001b[39mMixing dicts with non-Series may lead to ambiguous ordering.\u001b[39m\u001b[39m\"\u001b[39m\n\u001b[1;32m    672\u001b[0m     )\n",
      "\u001b[0;31mValueError\u001b[0m: All arrays must be of the same length"
     ]
    }
   ],
   "source": [
    "dev_df=pd.DataFrame(gap_dict)\n",
    "fig, ax1 = plt.subplots(figsize=(10,5))\n",
    "ax1 = dev_df.boxplot(grid=True)\n",
    "ax1.set_ylabel(\"idle interval length relative to fair value\")\n",
    "ax1.set_xlabel(\"lock implementation\")\n",
    "ax1.set_title(\"distribution of idleness between lock aquiries for different thread counts\")"
   ]
  },
  {
   "cell_type": "code",
   "execution_count": null,
   "metadata": {},
   "outputs": [],
   "source": [
    "# for key in gap_keys:\n",
    "#     gaps= gap_dict[key] \n",
    "#     counts, bins = np.histogram(np.array(gaps),density=False)\n",
    "#     plt.stairs(counts,bins,label=key)\n",
    "#     plt.legend()\n",
    "#     plt.xlabel(\"idle interval length [factor x to expected] in logscale\")\n",
    "#     plt.ylabel(\"commonness\")\n",
    "#     plt.title(\"The commonness of idleness-interval-lenghts (relative to thread count) for different locks \")\n",
    "#     # plt.hist(gaps, bins=range(min(gaps), max(gaps)+2))"
   ]
  }
 ],
 "metadata": {
  "kernelspec": {
   "display_name": "Python 3 (ipykernel)",
   "language": "python",
   "name": "python3"
  },
  "language_info": {
   "codemirror_mode": {
    "name": "ipython",
    "version": 3
   },
   "file_extension": ".py",
   "mimetype": "text/x-python",
   "name": "python",
   "nbconvert_exporter": "python",
   "pygments_lexer": "ipython3",
   "version": "3.8.10"
  },
  "vscode": {
   "interpreter": {
    "hash": "ffceec8d0d82b2530dd5e99c3e9a753b5d213e57b47e6b793e6bb963feaa24f3"
   }
  }
 },
 "nbformat": 4,
 "nbformat_minor": 2
}
