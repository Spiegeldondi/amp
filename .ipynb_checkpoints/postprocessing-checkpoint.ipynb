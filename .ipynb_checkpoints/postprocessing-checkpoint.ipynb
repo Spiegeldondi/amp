{
 "cells": [
  {
   "cell_type": "code",
   "execution_count": 142,
   "metadata": {},
   "outputs": [],
   "source": [
    "import matplotlib as mplot\n",
    "import numpy as np\n",
    "import pandas as pd"
   ]
  },
  {
   "cell_type": "code",
   "execution_count": 143,
   "metadata": {},
   "outputs": [],
   "source": [
    "data = []\n",
    "\n",
    "with open('test_output.txt', 'r') as file:\n",
    "    lines = file.readlines()[2:]\n",
    "\n",
    "for line in lines:\n",
    "    values = line.split()\n",
    "    data.append(values)\n",
    "\n",
    "df = pd.DataFrame(data)"
   ]
  },
  {
   "cell_type": "code",
   "execution_count": 144,
   "metadata": {},
   "outputs": [
    {
     "data": {
      "text/html": [
       "<div>\n",
       "<style scoped>\n",
       "    .dataframe tbody tr th:only-of-type {\n",
       "        vertical-align: middle;\n",
       "    }\n",
       "\n",
       "    .dataframe tbody tr th {\n",
       "        vertical-align: top;\n",
       "    }\n",
       "\n",
       "    .dataframe thead th {\n",
       "        text-align: right;\n",
       "    }\n",
       "</style>\n",
       "<table border=\"1\" class=\"dataframe\">\n",
       "  <thead>\n",
       "    <tr style=\"text-align: right;\">\n",
       "      <th></th>\n",
       "      <th>0</th>\n",
       "      <th>1</th>\n",
       "      <th>2</th>\n",
       "      <th>3</th>\n",
       "      <th>4</th>\n",
       "      <th>5</th>\n",
       "      <th>6</th>\n",
       "      <th>7</th>\n",
       "      <th>8</th>\n",
       "      <th>9</th>\n",
       "      <th>...</th>\n",
       "      <th>90</th>\n",
       "      <th>91</th>\n",
       "      <th>92</th>\n",
       "      <th>93</th>\n",
       "      <th>94</th>\n",
       "      <th>95</th>\n",
       "      <th>96</th>\n",
       "      <th>97</th>\n",
       "      <th>98</th>\n",
       "      <th>99</th>\n",
       "    </tr>\n",
       "  </thead>\n",
       "  <tbody>\n",
       "    <tr>\n",
       "      <th>0</th>\n",
       "      <td>6</td>\n",
       "      <td>2</td>\n",
       "      <td>4</td>\n",
       "      <td>5</td>\n",
       "      <td>3</td>\n",
       "      <td>7</td>\n",
       "      <td>6</td>\n",
       "      <td>2</td>\n",
       "      <td>4</td>\n",
       "      <td>1</td>\n",
       "      <td>...</td>\n",
       "      <td>1</td>\n",
       "      <td>3</td>\n",
       "      <td>7</td>\n",
       "      <td>5</td>\n",
       "      <td>6</td>\n",
       "      <td>2</td>\n",
       "      <td>4</td>\n",
       "      <td>1</td>\n",
       "      <td>0</td>\n",
       "      <td>0</td>\n",
       "    </tr>\n",
       "    <tr>\n",
       "      <th>1</th>\n",
       "      <td>6</td>\n",
       "      <td>0</td>\n",
       "      <td>7</td>\n",
       "      <td>1</td>\n",
       "      <td>2</td>\n",
       "      <td>5</td>\n",
       "      <td>4</td>\n",
       "      <td>3</td>\n",
       "      <td>6</td>\n",
       "      <td>0</td>\n",
       "      <td>...</td>\n",
       "      <td>7</td>\n",
       "      <td>1</td>\n",
       "      <td>2</td>\n",
       "      <td>5</td>\n",
       "      <td>4</td>\n",
       "      <td>3</td>\n",
       "      <td>6</td>\n",
       "      <td>0</td>\n",
       "      <td>7</td>\n",
       "      <td>0</td>\n",
       "    </tr>\n",
       "    <tr>\n",
       "      <th>2</th>\n",
       "      <td>1</td>\n",
       "      <td>4</td>\n",
       "      <td>7</td>\n",
       "      <td>6</td>\n",
       "      <td>0</td>\n",
       "      <td>2</td>\n",
       "      <td>3</td>\n",
       "      <td>5</td>\n",
       "      <td>1</td>\n",
       "      <td>4</td>\n",
       "      <td>...</td>\n",
       "      <td>2</td>\n",
       "      <td>3</td>\n",
       "      <td>5</td>\n",
       "      <td>4</td>\n",
       "      <td>1</td>\n",
       "      <td>7</td>\n",
       "      <td>6</td>\n",
       "      <td>0</td>\n",
       "      <td>2</td>\n",
       "      <td>0</td>\n",
       "    </tr>\n",
       "    <tr>\n",
       "      <th>3</th>\n",
       "      <td>6</td>\n",
       "      <td>5</td>\n",
       "      <td>3</td>\n",
       "      <td>0</td>\n",
       "      <td>4</td>\n",
       "      <td>7</td>\n",
       "      <td>1</td>\n",
       "      <td>2</td>\n",
       "      <td>6</td>\n",
       "      <td>5</td>\n",
       "      <td>...</td>\n",
       "      <td>3</td>\n",
       "      <td>0</td>\n",
       "      <td>4</td>\n",
       "      <td>7</td>\n",
       "      <td>1</td>\n",
       "      <td>2</td>\n",
       "      <td>6</td>\n",
       "      <td>5</td>\n",
       "      <td>3</td>\n",
       "      <td>0</td>\n",
       "    </tr>\n",
       "    <tr>\n",
       "      <th>4</th>\n",
       "      <td>1</td>\n",
       "      <td>0</td>\n",
       "      <td>2</td>\n",
       "      <td>6</td>\n",
       "      <td>3</td>\n",
       "      <td>5</td>\n",
       "      <td>4</td>\n",
       "      <td>7</td>\n",
       "      <td>1</td>\n",
       "      <td>0</td>\n",
       "      <td>...</td>\n",
       "      <td>2</td>\n",
       "      <td>6</td>\n",
       "      <td>3</td>\n",
       "      <td>5</td>\n",
       "      <td>7</td>\n",
       "      <td>4</td>\n",
       "      <td>1</td>\n",
       "      <td>0</td>\n",
       "      <td>2</td>\n",
       "      <td>0</td>\n",
       "    </tr>\n",
       "  </tbody>\n",
       "</table>\n",
       "<p>5 rows × 100 columns</p>\n",
       "</div>"
      ],
      "text/plain": [
       "  0  1  2  3  4  5  6  7  8  9   ... 90 91 92 93 94 95 96 97 98 99\n",
       "0  6  2  4  5  3  7  6  2  4  1  ...  1  3  7  5  6  2  4  1  0  0\n",
       "1  6  0  7  1  2  5  4  3  6  0  ...  7  1  2  5  4  3  6  0  7  0\n",
       "2  1  4  7  6  0  2  3  5  1  4  ...  2  3  5  4  1  7  6  0  2  0\n",
       "3  6  5  3  0  4  7  1  2  6  5  ...  3  0  4  7  1  2  6  5  3  0\n",
       "4  1  0  2  6  3  5  4  7  1  0  ...  2  6  3  5  7  4  1  0  2  0\n",
       "\n",
       "[5 rows x 100 columns]"
      ]
     },
     "execution_count": 144,
     "metadata": {},
     "output_type": "execute_result"
    }
   ],
   "source": [
    "df.head(5)"
   ]
  },
  {
   "cell_type": "code",
   "execution_count": 145,
   "metadata": {},
   "outputs": [],
   "source": [
    "# Create lists to store the minimum and maximum distances for each number\n",
    "min_distances = []\n",
    "max_distances = []\n",
    "\n",
    "# Iterate over each row in the DataFrame\n",
    "for index, row in df.iterrows():\n",
    "    # Convert the row values to integers\n",
    "    row_values = row.astype(int)\n",
    "    \n",
    "    # Initialize the minimum and maximum distances as NaN\n",
    "    min_dist = np.nan\n",
    "    max_dist = np.nan\n",
    "    \n",
    "    # Iterate over the numbers 0 to 7\n",
    "    for num in range(8):\n",
    "        # Find the indices where the number occurs in the row\n",
    "        indices = np.where(row_values == num)[0]\n",
    "        \n",
    "        # If there are at least two occurrences of the number\n",
    "        if len(indices) >= 2:\n",
    "            # Compute the distances between consecutive occurrences\n",
    "            distances = np.diff(indices)\n",
    "            \n",
    "            # Update the minimum and maximum distances\n",
    "            min_dist = np.nanmin(distances) if np.isnan(min_dist) else min(min_dist, np.nanmin(distances))\n",
    "            max_dist = np.nanmax(distances) if np.isnan(max_dist) else max(max_dist, np.nanmax(distances))\n",
    "    \n",
    "    # Append the minimum and maximum distances to the respective lists\n",
    "    min_distances.append(min_dist)\n",
    "    max_distances.append(max_dist)\n",
    "\n",
    "# Add the minimum and maximum distances as new columns in the DataFrame\n",
    "df['min_gap'] = min_distances\n",
    "df['max_gap'] = max_distances"
   ]
  },
  {
   "cell_type": "code",
   "execution_count": 146,
   "metadata": {},
   "outputs": [
    {
     "name": "stdout",
     "output_type": "stream",
     "text": [
      "Distances for number 3 in row 0:\n",
      "[6, 6, 7, 6, 6, 7, 7, 7, 7, 7, 7, 7, 7]\n"
     ]
    }
   ],
   "source": [
    "def compute_distances(row, number):\n",
    "    # Convert the row values to integers\n",
    "    row_values = row.astype(int)\n",
    "    \n",
    "    # Find the indices where the number occurs in the row\n",
    "    indices = np.where(row_values == number)[0]\n",
    "    \n",
    "    # Compute the distances between consecutive occurrences\n",
    "    distances = np.diff(indices)\n",
    "    \n",
    "    return distances.tolist()\n",
    "\n",
    "# Example usage:\n",
    "row_index = 0  # Specify the row index you want to compute distances for\n",
    "number_id = 3  # Specify the number ID you want to compute distances for\n",
    "\n",
    "# Get the row based on the index\n",
    "row = df.iloc[row_index]\n",
    "\n",
    "# Compute the distances for the given number in the row\n",
    "distances = compute_distances(row, number_id)\n",
    "\n",
    "print(f\"Distances for number {number_id} in row {row_index}:\")\n",
    "print(distances)"
   ]
  },
  {
   "cell_type": "code",
   "execution_count": 154,
   "metadata": {},
   "outputs": [
    {
     "name": "stdout",
     "output_type": "stream",
     "text": [
      "run: 0\n",
      "tid: 0 [1]\n",
      "tid: 1 [6, 7, 19, 7, 7, 7, 7, 7, 7, 7, 7, 3]\n",
      "tid: 2 [6, 6, 7, 7, 6, 6, 7, 7, 7, 7, 7, 7, 7, 7]\n",
      "tid: 3 [6, 6, 7, 6, 6, 7, 7, 7, 7, 7, 7, 7, 7]\n",
      "tid: 4 [6, 6, 7, 7, 6, 6, 7, 7, 7, 7, 7, 7, 7, 7]\n",
      "tid: 5 [15, 7, 6, 6, 7, 7, 7, 7, 7, 7, 7, 7]\n",
      "tid: 6 [6, 6, 7, 7, 6, 6, 7, 7, 7, 7, 7, 7, 7, 7]\n",
      "tid: 7 [6, 6, 7, 6, 6, 7, 7, 7, 7, 7, 7, 7, 7]\n",
      "run: 1\n",
      "tid: 0 [8, 8, 8, 8, 8, 8, 8, 8, 8, 8, 8, 8, 2]\n",
      "tid: 1 [8, 8, 8, 8, 8, 8, 8, 8, 8, 8, 8]\n",
      "tid: 2 [8, 8, 8, 8, 8, 8, 8, 8, 8, 8, 8, 8]\n",
      "tid: 3 [8, 8, 8, 8, 8, 8, 8, 8, 8, 8, 8]\n",
      "tid: 4 [8, 8, 8, 8, 8, 8, 8, 8, 8, 8, 8]\n",
      "tid: 5 [8, 8, 8, 8, 8, 8, 8, 8, 8, 8, 8]\n",
      "tid: 6 [8, 8, 8, 8, 8, 8, 8, 8, 8, 8, 8, 8]\n",
      "tid: 7 [8, 8, 8, 8, 8, 8, 8, 8, 8, 8, 8, 8]\n",
      "run: 2\n",
      "tid: 0 [8, 8, 8, 8, 8, 8, 8, 8, 7, 7, 7, 8, 2]\n",
      "tid: 1 [8, 8, 8, 8, 8, 8, 8, 8, 8, 7, 7, 8]\n",
      "tid: 2 [8, 8, 8, 8, 8, 8, 8, 8, 7, 7, 7, 8, 2]\n",
      "tid: 3 [8, 8, 8, 8, 8, 8, 8, 8, 7, 7, 7]\n",
      "tid: 4 [8, 8, 8, 8, 8, 8, 8, 8, 28]\n",
      "tid: 5 [8, 8, 8, 8, 8, 8, 8, 8, 7, 7, 7]\n",
      "tid: 6 [8, 8, 8, 8, 8, 8, 8, 8, 7, 7, 7, 8]\n",
      "tid: 7 [8, 8, 8, 8, 8, 8, 8, 8, 7, 7, 7, 8]\n",
      "run: 3\n",
      "tid: 0 [8, 8, 8, 8, 8, 8, 8, 8, 8, 8, 8, 8]\n",
      "tid: 1 [8, 8, 8, 8, 8, 8, 8, 8, 8, 8, 8]\n",
      "tid: 2 [8, 8, 8, 8, 8, 8, 8, 8, 8, 8, 8]\n",
      "tid: 3 [8, 8, 8, 8, 8, 8, 8, 8, 8, 8, 8, 8]\n",
      "tid: 4 [8, 8, 8, 8, 8, 8, 8, 8, 8, 8, 8]\n",
      "tid: 5 [8, 8, 8, 8, 8, 8, 8, 8, 8, 8, 8, 8]\n",
      "tid: 6 [8, 8, 8, 8, 8, 8, 8, 8, 8, 8, 8, 8]\n",
      "tid: 7 [8, 8, 8, 8, 8, 8, 8, 8, 8, 8, 8]\n",
      "run: 4\n",
      "tid: 0 [8, 8, 8, 8, 8, 8, 8, 8, 8, 8, 8, 8, 2]\n",
      "tid: 1 [8, 8, 8, 8, 8, 8, 8, 8, 8, 8, 8, 8]\n",
      "tid: 2 [8, 8, 8, 8, 8, 8, 8, 8, 8, 8, 8, 8, 2]\n",
      "tid: 3 [8, 8, 8, 8, 8, 8, 8, 8, 8, 8, 8]\n",
      "tid: 4 [8, 8, 8, 8, 8, 8, 8, 9, 8, 8, 8]\n",
      "tid: 5 [8, 8, 8, 8, 8, 8, 8, 8, 8, 8, 8]\n",
      "tid: 6 [8, 8, 8, 8, 8, 8, 8, 8, 8, 8, 8]\n",
      "tid: 7 [8, 8, 8, 8, 8, 8, 8, 7, 8, 8, 8]\n",
      "run: 5\n",
      "tid: 0 [8, 8, 8, 8, 8, 8, 8, 8, 8, 8, 8, 8, 3]\n",
      "tid: 1 [8, 8, 8, 8, 8, 8, 8, 8, 8, 8, 8]\n",
      "tid: 2 [8, 8, 8, 8, 8, 8, 8, 8, 8, 8, 8]\n",
      "tid: 3 [8, 8, 8, 8, 8, 8, 8, 8, 8, 8, 8, 8, 2]\n",
      "tid: 4 [8, 8, 8, 8, 8, 8, 8, 8, 8, 8, 8]\n",
      "tid: 5 [8, 8, 8, 8, 8, 8, 8, 8, 8, 8, 8, 8]\n",
      "tid: 6 [8, 8, 8, 8, 8, 8, 8, 8, 8, 8, 8]\n",
      "tid: 7 [8, 8, 8, 8, 8, 8, 8, 8, 8, 8, 8]\n",
      "run: 6\n",
      "tid: 0 [8, 7, 17, 6, 5, 6, 5, 6, 6, 6, 6, 6, 6, 8]\n",
      "tid: 1 [8, 7, 6, 5, 5, 6, 5, 6, 46]\n",
      "tid: 2 [8, 6, 5, 5, 6, 5, 5, 6, 5, 6, 6, 6, 6, 6, 6]\n",
      "tid: 3 [8, 6, 78]\n",
      "tid: 4 [8, 6, 5, 5, 6, 5, 5, 6, 5, 6, 6, 6, 6, 6, 6]\n",
      "tid: 5 [8, 7, 6, 5, 6, 13, 6, 5, 6, 6, 6, 6, 6, 7, 5]\n",
      "tid: 6 [8, 11, 5, 5, 6, 5, 6, 5, 5, 6, 6, 6, 6, 6, 8]\n",
      "tid: 7 [53, 6, 6, 6, 6, 6, 8]\n",
      "run: 7\n",
      "tid: 0 [8, 8, 8, 8, 8, 8, 8, 8, 7, 7, 7, 7, 6]\n",
      "tid: 1 [8, 8, 8, 8, 8, 8, 8, 36]\n",
      "tid: 2 [8, 8, 8, 8, 8, 8, 8, 7, 7, 7, 7]\n",
      "tid: 3 [8, 8, 8, 8, 8, 8, 8, 8, 7, 7, 7, 7]\n",
      "tid: 4 [8, 8, 8, 8, 8, 8, 8, 7, 7, 7, 7, 8]\n",
      "tid: 5 [8, 8, 8, 8, 8, 8, 8, 8, 7, 7, 7, 7]\n",
      "tid: 6 [8, 8, 8, 8, 8, 8, 8, 8, 7, 7, 7, 7, 8]\n",
      "tid: 7 [8, 8, 8, 8, 8, 8, 8, 7, 7, 7, 7, 8]\n",
      "run: 8\n",
      "tid: 0 [8, 8, 8, 8, 8, 8, 8, 8, 8, 8, 8, 8, 3]\n",
      "tid: 1 [8, 8, 8, 8, 8, 8, 8, 8, 8, 8, 8]\n",
      "tid: 2 [8, 8, 8, 8, 8, 8, 8, 8, 8, 8, 8]\n",
      "tid: 3 [8, 8, 8, 8, 8, 8, 8, 8, 8, 8, 8, 9]\n",
      "tid: 4 [8, 8, 8, 8, 8, 8, 8, 8, 8, 8, 8]\n",
      "tid: 5 [8, 8, 8, 8, 8, 8, 8, 8, 8, 8, 8, 8]\n",
      "tid: 6 [8, 8, 8, 8, 8, 8, 8, 8, 8, 8, 8, 8]\n",
      "tid: 7 [8, 8, 8, 8, 8, 8, 8, 8, 8, 8, 8]\n",
      "run: 9\n",
      "tid: 0 [8, 7, 8, 8, 8, 8, 8, 8, 8, 8, 8, 8, 4]\n",
      "tid: 1 [8, 8, 8, 8, 8, 8, 8, 8, 8, 8, 8]\n",
      "tid: 2 [12, 8, 8, 8, 8, 8, 8, 8, 8, 8]\n",
      "tid: 3 [8, 8, 8, 8, 8, 8, 8, 8, 8, 8, 8]\n",
      "tid: 4 [8, 7, 8, 8, 8, 8, 8, 8, 8, 8, 8, 8, 3]\n",
      "tid: 5 [8, 7, 8, 8, 8, 8, 8, 8, 8, 8, 8, 8]\n",
      "tid: 6 [8, 7, 8, 8, 8, 8, 8, 8, 8, 8, 8, 8]\n",
      "tid: 7 [8, 8, 8, 8, 8, 8, 8, 8, 8, 8, 8]\n"
     ]
    }
   ],
   "source": [
    "num_threads = 8\n",
    "iterations = 10\n",
    "\n",
    "gaps = []\n",
    "\n",
    "# fairest scenario: (#inner_iterations / #threads) lock acquisitions per thread\n",
    "fair_case = 100 / 8\n",
    "# deviation from fairest scenario per outer iteration\n",
    "deviations = [] \n",
    "\n",
    "for run in range(iterations):\n",
    "    print(\"run:\", run)\n",
    "    for thread_id in range(num_threads):\n",
    "        print(\"tid:\", thread_id, compute_distances(df.iloc[run], thread_id))\n",
    "        distances = compute_distances(df.iloc[run], thread_id)\n",
    "        gaps = gaps + distances\n",
    "        deviations.append(abs(fair_case - len(distances)))\n",
    "        \n",
    "    "
   ]
  },
  {
   "cell_type": "code",
   "execution_count": 155,
   "metadata": {},
   "outputs": [
    {
     "data": {
      "text/plain": [
       "{'whiskers': [<matplotlib.lines.Line2D at 0x7f2c7d195210>,\n",
       "  <matplotlib.lines.Line2D at 0x7f2c7d195b90>],\n",
       " 'caps': [<matplotlib.lines.Line2D at 0x7f2c7d196350>,\n",
       "  <matplotlib.lines.Line2D at 0x7f2c7d196b10>],\n",
       " 'boxes': [<matplotlib.lines.Line2D at 0x7f2c7d159690>],\n",
       " 'medians': [<matplotlib.lines.Line2D at 0x7f2c7d197390>],\n",
       " 'fliers': [<matplotlib.lines.Line2D at 0x7f2c7d195a10>],\n",
       " 'means': []}"
      ]
     },
     "execution_count": 155,
     "metadata": {},
     "output_type": "execute_result"
    },
    {
     "data": {
      "image/png": "[encoded data removed]",
      "text/plain": [
       "<Figure size 640x480 with 1 Axes>"
      ]
     },
     "metadata": {},
     "output_type": "display_data"
    }
   ],
   "source": [
    "plt.boxplot(deviations)"
   ]
  },
  {
   "cell_type": "code",
   "execution_count": 115,
   "metadata": {},
   "outputs": [],
   "source": [
    "import matplotlib.pyplot as plt"
   ]
  },
  {
   "cell_type": "code",
   "execution_count": 139,
   "metadata": {},
   "outputs": [],
   "source": [
    "gaps_log = np.log10(np.array(gaps))"
   ]
  },
  {
   "cell_type": "code",
   "execution_count": 140,
   "metadata": {},
   "outputs": [
    {
     "data": {
      "image/png": "[encoded data removed]",
      "text/plain": [
       "<Figure size 640x480 with 1 Axes>"
      ]
     },
     "metadata": {},
     "output_type": "display_data"
    }
   ],
   "source": [
    "import seaborn as sns\n",
    "sns.boxplot(gaps_log)\n",
    "plt.show()"
   ]
  },
  {
   "cell_type": "code",
   "execution_count": 124,
   "metadata": {},
   "outputs": [
    {
     "data": {
      "text/plain": [
       "(array([  1.,   6.,   4.,   1.,  23.,  74., 123., 684.,   2.,   0.,   1.,\n",
       "          1.,   1.,   0.,   1.,   0.,   1.,   0.,   1.,   0.,   0.,   0.,\n",
       "          0.,   0.,   0.,   0.,   0.,   1.,   0.,   0.,   0.,   0.,   0.,\n",
       "          0.,   0.,   1.,   0.,   0.,   0.,   0.,   0.,   0.,   0.,   0.,\n",
       "          0.,   1.,   0.,   0.,   0.,   0.,   0.,   0.,   1.,   0.,   0.,\n",
       "          0.,   0.,   0.,   0.,   0.,   0.,   0.,   0.,   0.,   0.,   0.,\n",
       "          0.,   0.,   0.,   0.,   0.,   0.,   0.,   0.,   0.,   0.,   0.,\n",
       "          1.]),\n",
       " array([ 1.,  2.,  3.,  4.,  5.,  6.,  7.,  8.,  9., 10., 11., 12., 13.,\n",
       "        14., 15., 16., 17., 18., 19., 20., 21., 22., 23., 24., 25., 26.,\n",
       "        27., 28., 29., 30., 31., 32., 33., 34., 35., 36., 37., 38., 39.,\n",
       "        40., 41., 42., 43., 44., 45., 46., 47., 48., 49., 50., 51., 52.,\n",
       "        53., 54., 55., 56., 57., 58., 59., 60., 61., 62., 63., 64., 65.,\n",
       "        66., 67., 68., 69., 70., 71., 72., 73., 74., 75., 76., 77., 78.,\n",
       "        79.]),\n",
       " <BarContainer object of 78 artists>)"
      ]
     },
     "execution_count": 124,
     "metadata": {},
     "output_type": "execute_result"
    },
    {
     "data": {
      "image/png": "[encoded data removed]",
      "text/plain": [
       "<Figure size 640x480 with 1 Axes>"
      ]
     },
     "metadata": {},
     "output_type": "display_data"
    }
   ],
   "source": [
    "#counts, bins = np.histogram(gaps)\n",
    "plt.hist(gaps, bins=range(min(gaps), max(gaps)+2))"
   ]
  },
  {
   "cell_type": "code",
   "execution_count": 129,
   "metadata": {},
   "outputs": [],
   "source": [
    "# counts, bins = np.histogram(gaps, bins=100)\n",
    "# plt.hist(counts, bins)"
   ]
  },
  {
   "cell_type": "code",
   "execution_count": null,
   "metadata": {},
   "outputs": [],
   "source": []
  }
 ],
 "metadata": {
  "kernelspec": {
   "display_name": "Python 3 (ipykernel)",
   "language": "python",
   "name": "python3"
  },
  "language_info": {
   "codemirror_mode": {
    "name": "ipython",
    "version": 3
   },
   "file_extension": ".py",
   "mimetype": "text/x-python",
   "name": "python",
   "nbconvert_exporter": "python",
   "pygments_lexer": "ipython3",
   "version": "3.11.3"
  },
  "vscode": {
   "interpreter": {
    "hash": "ffceec8d0d82b2530dd5e99c3e9a753b5d213e57b47e6b793e6bb963feaa24f3"
   }
  }
 },
 "nbformat": 4,
 "nbformat_minor": 2
}
